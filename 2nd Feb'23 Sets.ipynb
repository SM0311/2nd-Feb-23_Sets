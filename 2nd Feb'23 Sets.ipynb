{
 "cells": [
  {
   "cell_type": "code",
   "execution_count": 1,
   "id": "85938996-01e6-408a-8604-3ff2f0f3b0ad",
   "metadata": {},
   "outputs": [],
   "source": [
    "s = {}"
   ]
  },
  {
   "cell_type": "code",
   "execution_count": 2,
   "id": "3829ac51-e9e3-402d-a6c1-d18ebe1bc711",
   "metadata": {},
   "outputs": [
    {
     "data": {
      "text/plain": [
       "dict"
      ]
     },
     "execution_count": 2,
     "metadata": {},
     "output_type": "execute_result"
    }
   ],
   "source": [
    "type(s)"
   ]
  },
  {
   "cell_type": "code",
   "execution_count": 3,
   "id": "a511fe72-9dff-4860-aa53-46131f4419da",
   "metadata": {},
   "outputs": [],
   "source": [
    "s1 = {1,2,3,4,5}"
   ]
  },
  {
   "cell_type": "code",
   "execution_count": 4,
   "id": "faef43c3-dd77-4c8e-9dd8-0165b86602ec",
   "metadata": {},
   "outputs": [
    {
     "data": {
      "text/plain": [
       "set"
      ]
     },
     "execution_count": 4,
     "metadata": {},
     "output_type": "execute_result"
    }
   ],
   "source": [
    "type(s1)"
   ]
  },
  {
   "cell_type": "code",
   "execution_count": 5,
   "id": "e964a264-5a9f-4604-89ec-c0fbe7d14d3d",
   "metadata": {},
   "outputs": [],
   "source": [
    "s2 = {1,1,12,3,3,3,4,5,5,5,55,523,34,3,45,6,67}"
   ]
  },
  {
   "cell_type": "code",
   "execution_count": 6,
   "id": "dd32e8b0-5d8c-4196-8371-c06fec8e29be",
   "metadata": {},
   "outputs": [
    {
     "data": {
      "text/plain": [
       "{1, 3, 4, 5, 6, 12, 34, 45, 55, 67, 523}"
      ]
     },
     "execution_count": 6,
     "metadata": {},
     "output_type": "execute_result"
    }
   ],
   "source": [
    "s2"
   ]
  },
  {
   "cell_type": "code",
   "execution_count": 9,
   "id": "ef75282f-b1fe-47e5-8bf0-dfa046b28570",
   "metadata": {},
   "outputs": [],
   "source": [
    "l = list(s2)"
   ]
  },
  {
   "cell_type": "code",
   "execution_count": 8,
   "id": "ff9c1065-532a-4d83-8799-239448f5410a",
   "metadata": {},
   "outputs": [
    {
     "data": {
      "text/plain": [
       "(1, 34, 3, 4, 5, 6, 67, 523, 12, 45, 55)"
      ]
     },
     "execution_count": 8,
     "metadata": {},
     "output_type": "execute_result"
    }
   ],
   "source": [
    "tuple(s2)"
   ]
  },
  {
   "cell_type": "code",
   "execution_count": 10,
   "id": "ce433f42-5c68-4199-a3c3-aa83acb7fa0b",
   "metadata": {},
   "outputs": [
    {
     "data": {
      "text/plain": [
       "[1, 34, 3, 4, 5, 6, 67, 523, 12, 45, 55]"
      ]
     },
     "execution_count": 10,
     "metadata": {},
     "output_type": "execute_result"
    }
   ],
   "source": [
    "l"
   ]
  },
  {
   "cell_type": "code",
   "execution_count": 11,
   "id": "998b3d3f-0765-44aa-b976-85562ab251ed",
   "metadata": {},
   "outputs": [
    {
     "data": {
      "text/plain": [
       "{1, 3, 4, 5, 6, 12, 34, 45, 55, 67, 523}"
      ]
     },
     "execution_count": 11,
     "metadata": {},
     "output_type": "execute_result"
    }
   ],
   "source": [
    "set(l)"
   ]
  },
  {
   "cell_type": "code",
   "execution_count": 12,
   "id": "c0f996bc-65b5-4d9f-a5c4-14de40c54cee",
   "metadata": {},
   "outputs": [
    {
     "ename": "TypeError",
     "evalue": "unhashable type: 'list'",
     "output_type": "error",
     "traceback": [
      "\u001b[0;31m---------------------------------------------------------------------------\u001b[0m",
      "\u001b[0;31mTypeError\u001b[0m                                 Traceback (most recent call last)",
      "Cell \u001b[0;32mIn[12], line 1\u001b[0m\n\u001b[0;32m----> 1\u001b[0m s4 \u001b[38;5;241m=\u001b[39m {\u001b[38;5;241m1\u001b[39m,\u001b[38;5;241m2\u001b[39m,\u001b[38;5;241m3\u001b[39m,\u001b[38;5;241m4\u001b[39m,[\u001b[38;5;241m1\u001b[39m,\u001b[38;5;241m2\u001b[39m,\u001b[38;5;241m3\u001b[39m,\u001b[38;5;241m4\u001b[39m]}\n",
      "\u001b[0;31mTypeError\u001b[0m: unhashable type: 'list'"
     ]
    }
   ],
   "source": [
    "s4 = {1,2,3,4,[1,2,3,4]}"
   ]
  },
  {
   "cell_type": "code",
   "execution_count": 13,
   "id": "5ceecf95-d4a3-441e-950a-394c47bb7a97",
   "metadata": {},
   "outputs": [],
   "source": [
    "s5 = {1,2,3,4,(1,2,3,4)}"
   ]
  },
  {
   "cell_type": "code",
   "execution_count": 14,
   "id": "1af7fdd4-9b95-4e4a-a36e-139d70ad0ea3",
   "metadata": {},
   "outputs": [
    {
     "data": {
      "text/plain": [
       "{(1, 2, 3, 4), 1, 2, 3, 4}"
      ]
     },
     "execution_count": 14,
     "metadata": {},
     "output_type": "execute_result"
    }
   ],
   "source": [
    "s5"
   ]
  },
  {
   "cell_type": "code",
   "execution_count": 15,
   "id": "b8350762-e33b-4da5-ac7d-6a846b89cf93",
   "metadata": {},
   "outputs": [],
   "source": [
    "s6 = {\"Suraj\", \"suraj\", 2,3,4,5}"
   ]
  },
  {
   "cell_type": "code",
   "execution_count": 16,
   "id": "b9f2e142-c9c8-47b5-9640-abf13fa45d6d",
   "metadata": {},
   "outputs": [
    {
     "data": {
      "text/plain": [
       "{2, 3, 4, 5, 'Suraj', 'suraj'}"
      ]
     },
     "execution_count": 16,
     "metadata": {},
     "output_type": "execute_result"
    }
   ],
   "source": [
    "s6"
   ]
  },
  {
   "cell_type": "code",
   "execution_count": 17,
   "id": "881d6803-1c6e-4168-9da4-235f5cdda0d9",
   "metadata": {},
   "outputs": [],
   "source": [
    "s7 = {\"Suraj\", \"Suraj\", 2,3,4,5}"
   ]
  },
  {
   "cell_type": "code",
   "execution_count": 18,
   "id": "1479ab07-0b8c-4254-808e-2237430cd8ce",
   "metadata": {},
   "outputs": [
    {
     "data": {
      "text/plain": [
       "{2, 3, 4, 5, 'Suraj'}"
      ]
     },
     "execution_count": 18,
     "metadata": {},
     "output_type": "execute_result"
    }
   ],
   "source": [
    "s7"
   ]
  },
  {
   "cell_type": "code",
   "execution_count": 19,
   "id": "a89e2ef0-6f9b-4777-bb73-9e2d3b2b2e23",
   "metadata": {},
   "outputs": [],
   "source": [
    "s8 = {\"suraj\", \"suraj\", 2,3,4,5}"
   ]
  },
  {
   "cell_type": "code",
   "execution_count": 20,
   "id": "3c1e4116-fd7c-430a-99b1-2dd95c2dff72",
   "metadata": {},
   "outputs": [
    {
     "data": {
      "text/plain": [
       "{2, 3, 4, 5, 'suraj'}"
      ]
     },
     "execution_count": 20,
     "metadata": {},
     "output_type": "execute_result"
    }
   ],
   "source": [
    "s8"
   ]
  },
  {
   "cell_type": "code",
   "execution_count": 21,
   "id": "e292b012-2c4d-4c7d-80bf-fcdecf3641f5",
   "metadata": {},
   "outputs": [
    {
     "data": {
      "text/plain": [
       "{2, 3, 4, 5, 'Suraj'}"
      ]
     },
     "execution_count": 21,
     "metadata": {},
     "output_type": "execute_result"
    }
   ],
   "source": [
    "s7"
   ]
  },
  {
   "cell_type": "code",
   "execution_count": 22,
   "id": "a6a16ff9-24e7-4dc4-a06b-30d411fa6ae1",
   "metadata": {},
   "outputs": [
    {
     "ename": "TypeError",
     "evalue": "'set' object is not subscriptable",
     "output_type": "error",
     "traceback": [
      "\u001b[0;31m---------------------------------------------------------------------------\u001b[0m",
      "\u001b[0;31mTypeError\u001b[0m                                 Traceback (most recent call last)",
      "Cell \u001b[0;32mIn[22], line 1\u001b[0m\n\u001b[0;32m----> 1\u001b[0m \u001b[43ms7\u001b[49m\u001b[43m[\u001b[49m\u001b[38;5;241;43m0\u001b[39;49m\u001b[43m]\u001b[49m\n",
      "\u001b[0;31mTypeError\u001b[0m: 'set' object is not subscriptable"
     ]
    }
   ],
   "source": [
    "s7[0]"
   ]
  },
  {
   "cell_type": "code",
   "execution_count": 23,
   "id": "586ce235-f0b1-43e4-a66c-f0a25764dd66",
   "metadata": {},
   "outputs": [
    {
     "ename": "TypeError",
     "evalue": "'set' object is not subscriptable",
     "output_type": "error",
     "traceback": [
      "\u001b[0;31m---------------------------------------------------------------------------\u001b[0m",
      "\u001b[0;31mTypeError\u001b[0m                                 Traceback (most recent call last)",
      "Cell \u001b[0;32mIn[23], line 1\u001b[0m\n\u001b[0;32m----> 1\u001b[0m \u001b[43ms7\u001b[49m\u001b[43m[\u001b[49m\u001b[43m:\u001b[49m\u001b[43m:\u001b[49m\u001b[38;5;241;43m-\u001b[39;49m\u001b[38;5;241;43m1\u001b[39;49m\u001b[43m]\u001b[49m\n",
      "\u001b[0;31mTypeError\u001b[0m: 'set' object is not subscriptable"
     ]
    }
   ],
   "source": [
    "s7[::-1]"
   ]
  },
  {
   "cell_type": "code",
   "execution_count": 24,
   "id": "99ab9797-bb98-4070-ad66-77fd769a380a",
   "metadata": {},
   "outputs": [
    {
     "data": {
      "text/plain": [
       "{2, 3, 4, 5, 'Suraj'}"
      ]
     },
     "execution_count": 24,
     "metadata": {},
     "output_type": "execute_result"
    }
   ],
   "source": [
    "s7"
   ]
  },
  {
   "cell_type": "code",
   "execution_count": 25,
   "id": "9b1dd1ff-9448-442b-907e-a4e11c21a6f3",
   "metadata": {},
   "outputs": [
    {
     "name": "stdout",
     "output_type": "stream",
     "text": [
      "2\n",
      "3\n",
      "4\n",
      "5\n",
      "Suraj\n"
     ]
    }
   ],
   "source": [
    "for i in s7:\n",
    "    print(i)"
   ]
  },
  {
   "cell_type": "code",
   "execution_count": 26,
   "id": "23e3a525-c6e7-4a4b-87b4-01f74695cdb6",
   "metadata": {},
   "outputs": [
    {
     "data": {
      "text/plain": [
       "{2, 3, 4, 5, 'Suraj'}"
      ]
     },
     "execution_count": 26,
     "metadata": {},
     "output_type": "execute_result"
    }
   ],
   "source": [
    "s7"
   ]
  },
  {
   "cell_type": "code",
   "execution_count": 27,
   "id": "c7aad053-3023-43c4-a8e8-4406592f07c5",
   "metadata": {},
   "outputs": [],
   "source": [
    "s7.add(34)"
   ]
  },
  {
   "cell_type": "code",
   "execution_count": 28,
   "id": "3762cadd-57a1-454f-be30-3fca102b41fd",
   "metadata": {},
   "outputs": [
    {
     "data": {
      "text/plain": [
       "{2, 3, 34, 4, 5, 'Suraj'}"
      ]
     },
     "execution_count": 28,
     "metadata": {},
     "output_type": "execute_result"
    }
   ],
   "source": [
    "s7"
   ]
  },
  {
   "cell_type": "code",
   "execution_count": 29,
   "id": "fdb13e95-9588-45d3-9234-d9f427342612",
   "metadata": {},
   "outputs": [],
   "source": [
    "s7.add(2)"
   ]
  },
  {
   "cell_type": "code",
   "execution_count": 30,
   "id": "143d57a0-614a-4a69-8fe9-d6465f39322c",
   "metadata": {},
   "outputs": [
    {
     "data": {
      "text/plain": [
       "{2, 3, 34, 4, 5, 'Suraj'}"
      ]
     },
     "execution_count": 30,
     "metadata": {},
     "output_type": "execute_result"
    }
   ],
   "source": [
    "s7"
   ]
  },
  {
   "cell_type": "code",
   "execution_count": 31,
   "id": "29544a96-30cf-4144-8efe-d4391b597fa5",
   "metadata": {},
   "outputs": [
    {
     "data": {
      "text/plain": [
       "6"
      ]
     },
     "execution_count": 31,
     "metadata": {},
     "output_type": "execute_result"
    }
   ],
   "source": [
    "len(s7)"
   ]
  },
  {
   "cell_type": "code",
   "execution_count": 32,
   "id": "6bccc4fe-9d0d-43f3-8433-7535528c02ef",
   "metadata": {},
   "outputs": [
    {
     "data": {
      "text/plain": [
       "2"
      ]
     },
     "execution_count": 32,
     "metadata": {},
     "output_type": "execute_result"
    }
   ],
   "source": [
    "s7.pop()"
   ]
  },
  {
   "cell_type": "code",
   "execution_count": 33,
   "id": "f276bc59-2e89-4f72-91a4-3e5ff9403a1a",
   "metadata": {},
   "outputs": [
    {
     "data": {
      "text/plain": [
       "{3, 34, 4, 5, 'Suraj'}"
      ]
     },
     "execution_count": 33,
     "metadata": {},
     "output_type": "execute_result"
    }
   ],
   "source": [
    "s7"
   ]
  },
  {
   "cell_type": "code",
   "execution_count": 34,
   "id": "196c9629-7650-4f67-8fb3-b2d0414e5d57",
   "metadata": {},
   "outputs": [
    {
     "data": {
      "text/plain": [
       "3"
      ]
     },
     "execution_count": 34,
     "metadata": {},
     "output_type": "execute_result"
    }
   ],
   "source": [
    "s7.pop()"
   ]
  },
  {
   "cell_type": "code",
   "execution_count": 35,
   "id": "3b33d607-ac42-44d8-98f0-55ee0fc91817",
   "metadata": {},
   "outputs": [
    {
     "data": {
      "text/plain": [
       "{34, 4, 5, 'Suraj'}"
      ]
     },
     "execution_count": 35,
     "metadata": {},
     "output_type": "execute_result"
    }
   ],
   "source": [
    "s7"
   ]
  },
  {
   "cell_type": "code",
   "execution_count": 36,
   "id": "db96bbe8-6ed9-49c8-8ae5-aa1806476c33",
   "metadata": {},
   "outputs": [
    {
     "data": {
      "text/plain": [
       "4"
      ]
     },
     "execution_count": 36,
     "metadata": {},
     "output_type": "execute_result"
    }
   ],
   "source": [
    "s7.pop()"
   ]
  },
  {
   "cell_type": "code",
   "execution_count": 37,
   "id": "7a2bf196-3474-4c92-8c73-455d415cdfbe",
   "metadata": {},
   "outputs": [
    {
     "data": {
      "text/plain": [
       "{34, 5, 'Suraj'}"
      ]
     },
     "execution_count": 37,
     "metadata": {},
     "output_type": "execute_result"
    }
   ],
   "source": [
    "s7"
   ]
  },
  {
   "cell_type": "code",
   "execution_count": 38,
   "id": "a3f8353e-2fe3-4f8a-8ce0-aeeb18f90d95",
   "metadata": {},
   "outputs": [
    {
     "data": {
      "text/plain": [
       "5"
      ]
     },
     "execution_count": 38,
     "metadata": {},
     "output_type": "execute_result"
    }
   ],
   "source": [
    "s7.pop()"
   ]
  },
  {
   "cell_type": "code",
   "execution_count": 39,
   "id": "6c3f0496-520f-41f0-a1ea-e64a3ad5560e",
   "metadata": {},
   "outputs": [
    {
     "data": {
      "text/plain": [
       "{34, 'Suraj'}"
      ]
     },
     "execution_count": 39,
     "metadata": {},
     "output_type": "execute_result"
    }
   ],
   "source": [
    "s7"
   ]
  },
  {
   "cell_type": "code",
   "execution_count": 41,
   "id": "28dcdb9a-eb43-4be7-a5ed-b47c6afdf7b1",
   "metadata": {},
   "outputs": [],
   "source": [
    "s7.clear()"
   ]
  },
  {
   "cell_type": "code",
   "execution_count": 42,
   "id": "454ead83-1f6a-49f7-be9a-6b43b5292230",
   "metadata": {},
   "outputs": [
    {
     "data": {
      "text/plain": [
       "set()"
      ]
     },
     "execution_count": 42,
     "metadata": {},
     "output_type": "execute_result"
    }
   ],
   "source": [
    "s7"
   ]
  },
  {
   "cell_type": "code",
   "execution_count": 43,
   "id": "94ec449c-99ec-418e-906c-eb7b81d295d7",
   "metadata": {},
   "outputs": [],
   "source": [
    "s8 = {1,2,3,4}\n",
    "s9 = {1,2,3,5}"
   ]
  },
  {
   "cell_type": "code",
   "execution_count": 44,
   "id": "ca391a34-8b16-4a95-a46c-9848be4ce297",
   "metadata": {},
   "outputs": [
    {
     "data": {
      "text/plain": [
       "{4}"
      ]
     },
     "execution_count": 44,
     "metadata": {},
     "output_type": "execute_result"
    }
   ],
   "source": [
    "s8.difference(s9)"
   ]
  },
  {
   "cell_type": "code",
   "execution_count": 45,
   "id": "e2834f40-3cbc-498f-9e9d-5d20c20b59ac",
   "metadata": {},
   "outputs": [
    {
     "data": {
      "text/plain": [
       "{5}"
      ]
     },
     "execution_count": 45,
     "metadata": {},
     "output_type": "execute_result"
    }
   ],
   "source": [
    "s9.difference(s8)"
   ]
  },
  {
   "cell_type": "code",
   "execution_count": null,
   "id": "0888e1c8-5cb2-4d7e-bdfa-6d023bcb907b",
   "metadata": {},
   "outputs": [],
   "source": []
  },
  {
   "cell_type": "code",
   "execution_count": null,
   "id": "ade58b46-8e99-438c-be53-c3949ec52bb0",
   "metadata": {},
   "outputs": [],
   "source": []
  },
  {
   "cell_type": "code",
   "execution_count": null,
   "id": "1aba9f8d-7727-468f-9c8e-ce72e80ba3cb",
   "metadata": {},
   "outputs": [],
   "source": []
  },
  {
   "cell_type": "code",
   "execution_count": null,
   "id": "ab5e6657-8d02-4eec-8eac-505310cae7f9",
   "metadata": {},
   "outputs": [],
   "source": []
  },
  {
   "cell_type": "code",
   "execution_count": null,
   "id": "2450f9e5-56e0-46f2-a6f3-7977956b08b6",
   "metadata": {},
   "outputs": [],
   "source": []
  },
  {
   "cell_type": "code",
   "execution_count": null,
   "id": "689cec69-4335-4a88-b8cb-b4e9715eadb2",
   "metadata": {},
   "outputs": [],
   "source": []
  },
  {
   "cell_type": "code",
   "execution_count": null,
   "id": "58b7de58-afcf-4b61-ac9b-09e1993fc7b1",
   "metadata": {},
   "outputs": [],
   "source": []
  },
  {
   "cell_type": "code",
   "execution_count": null,
   "id": "b6319eb2-ca1e-4437-b65a-94261caa3b30",
   "metadata": {},
   "outputs": [],
   "source": []
  },
  {
   "cell_type": "code",
   "execution_count": null,
   "id": "bedc69c8-d77f-4906-862f-4263350a3604",
   "metadata": {},
   "outputs": [],
   "source": []
  },
  {
   "cell_type": "code",
   "execution_count": null,
   "id": "b9e8d3fd-6fb8-497f-bae0-553773327774",
   "metadata": {},
   "outputs": [],
   "source": []
  },
  {
   "cell_type": "code",
   "execution_count": null,
   "id": "da93a2b4-a219-4974-8394-0d85815af424",
   "metadata": {},
   "outputs": [],
   "source": []
  },
  {
   "cell_type": "code",
   "execution_count": null,
   "id": "10123383-c1a5-47da-9bd4-ad821f68de2b",
   "metadata": {},
   "outputs": [],
   "source": []
  },
  {
   "cell_type": "code",
   "execution_count": null,
   "id": "76160e9a-c54e-40c5-9f78-ce5249b8064d",
   "metadata": {},
   "outputs": [],
   "source": []
  },
  {
   "cell_type": "code",
   "execution_count": null,
   "id": "ee7cd390-b8d4-43cb-b75e-dc8d681ca5dd",
   "metadata": {},
   "outputs": [],
   "source": []
  },
  {
   "cell_type": "code",
   "execution_count": null,
   "id": "0f3be9cd-d0e4-415b-ac70-81e334162b06",
   "metadata": {},
   "outputs": [],
   "source": []
  },
  {
   "cell_type": "code",
   "execution_count": null,
   "id": "2851d1bf-d82c-479e-a1e4-1a27214026b1",
   "metadata": {},
   "outputs": [],
   "source": []
  },
  {
   "cell_type": "code",
   "execution_count": null,
   "id": "e43cbf09-9457-4ff2-aa9d-8e7c67ad7fc7",
   "metadata": {},
   "outputs": [],
   "source": []
  },
  {
   "cell_type": "code",
   "execution_count": null,
   "id": "f89eb79d-f937-472d-9f11-08bf17389ea3",
   "metadata": {},
   "outputs": [],
   "source": []
  },
  {
   "cell_type": "code",
   "execution_count": null,
   "id": "838676e8-cbb7-4467-b268-4f1d649f11c4",
   "metadata": {},
   "outputs": [],
   "source": []
  },
  {
   "cell_type": "code",
   "execution_count": null,
   "id": "9453e50e-e318-432e-ab5c-55842fb33dc7",
   "metadata": {},
   "outputs": [],
   "source": []
  },
  {
   "cell_type": "code",
   "execution_count": null,
   "id": "a47fbacc-4e1e-4d55-8dde-cbd09637763a",
   "metadata": {},
   "outputs": [],
   "source": []
  },
  {
   "cell_type": "code",
   "execution_count": null,
   "id": "5d038d21-e657-4522-a4cb-b2bfedc40967",
   "metadata": {},
   "outputs": [],
   "source": []
  }
 ],
 "metadata": {
  "kernelspec": {
   "display_name": "Python 3 (ipykernel)",
   "language": "python",
   "name": "python3"
  },
  "language_info": {
   "codemirror_mode": {
    "name": "ipython",
    "version": 3
   },
   "file_extension": ".py",
   "mimetype": "text/x-python",
   "name": "python",
   "nbconvert_exporter": "python",
   "pygments_lexer": "ipython3",
   "version": "3.10.8"
  }
 },
 "nbformat": 4,
 "nbformat_minor": 5
}
